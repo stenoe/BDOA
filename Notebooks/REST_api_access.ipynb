{
  "nbformat": 4,
  "nbformat_minor": 0,
  "metadata": {
    "colab": {
      "provenance": [],
      "authorship_tag": "ABX9TyOIgtpQxObMk4zGKVoBeKKi",
      "include_colab_link": true
    },
    "kernelspec": {
      "name": "python3",
      "display_name": "Python 3"
    },
    "language_info": {
      "name": "python"
    }
  },
  "cells": [
    {
      "cell_type": "markdown",
      "metadata": {
        "id": "view-in-github",
        "colab_type": "text"
      },
      "source": [
        "<a href=\"https://colab.research.google.com/github/stenoe/BDOA/blob/main/Notebooks/REST_api_access.ipynb\" target=\"_parent\"><img src=\"https://colab.research.google.com/assets/colab-badge.svg\" alt=\"Open In Colab\"/></a>"
      ]
    },
    {
      "cell_type": "markdown",
      "source": [
        "# Evapotranspiration data download Via REST API\n"
      ],
      "metadata": {
        "id": "BXci_vcbp1xy"
      }
    },
    {
      "cell_type": "markdown",
      "source": [
        "## 1 Downloading data programmatically \n",
        "\n",
        "To download data by program code we do:\n",
        "\n",
        "1. Create a data directory\n",
        "2. Load 1-by-1 the data files from the Github repository. Do do so, you need to copy the **raw** data link and create from this the file name to store the data and the request.\n",
        "\n"
      ],
      "metadata": {
        "id": "E5rbPaE2p_1i"
      }
    },
    {
      "cell_type": "code",
      "execution_count": 1,
      "metadata": {
        "colab": {
          "base_uri": "https://localhost:8080/"
        },
        "id": "jNGxD5OclO2T",
        "outputId": "5f3c7933-45ca-4582-9779-6b3e0d1daa7e"
      },
      "outputs": [
        {
          "output_type": "stream",
          "name": "stdout",
          "text": [
            "data does not exist, creating one...\n",
            "Downloading Ahja MODIS data...\n",
            "Downloading Nhundiaquara MODIS data...\n",
            "Downloading Salma MODIS data...\n"
          ]
        }
      ],
      "source": [
        "import requests\n",
        "from pathlib import Path\n",
        "\n",
        "# Setup path to a data folder\n",
        "data_path = Path(\"data/\")\n",
        "\n",
        "# If the data folder doesn't exist, download it and prepare it...\n",
        "if data_path.is_dir():\n",
        "  print(f\"{data_path} directory already exists... skipping creation\")\n",
        "else: \n",
        "  print(f\"{data_path} does not exist, creating one...\")\n",
        "  data_path.mkdir(parents=True, exist_ok=True)\n",
        "\n",
        "# Download Ahja data\n",
        "with open(data_path / \"Ahja-MOD16A2GF-006-Statistics.csv\", \"wb\") as f:\n",
        "  request = requests.get(\"https://raw.githubusercontent.com/stenoe/BDOA/main/Evapotranspiration%20data/Ahja-MOD16A2GF-006-Statistics.csv\")\n",
        "  print(\"Downloading Ahja MODIS data...\")\n",
        "  f.write(request.content)\n",
        "  \n",
        "# Download Nhundiaquara data\n",
        "with open(data_path / \"Nhundiaquara-MOD16A2GF-006-Statistics.csv\", \"wb\") as f:\n",
        "  request = requests.get(\"https://raw.githubusercontent.com/stenoe/BDOA/main/Evapotranspiration%20data/Nhundiaquara-MOD16A2GF-006-Statistics.csv\")\n",
        "  print(\"Downloading Nhundiaquara MODIS data...\")\n",
        "  f.write(request.content)\n",
        "\n",
        "# Download Salma data\n",
        "with open(data_path / \"Salma-MOD16A2GF-006-Statistics.csv\", \"wb\") as f:\n",
        "  request = requests.get(\"https://raw.githubusercontent.com/stenoe/BDOA/main/Evapotranspiration%20data/Salma-MOD16A2GF-006-Statistics.csv\")\n",
        "  print(\"Downloading Salma MODIS data...\")\n",
        "  f.write(request.content)\n",
        "\n"
      ]
    },
    {
      "cell_type": "markdown",
      "source": [
        "For curiosity, we can check what type of data we downloaded, or, what encoding we have, or the response number"
      ],
      "metadata": {
        "id": "CXPEyS1Zluiq"
      }
    },
    {
      "cell_type": "code",
      "source": [
        "print(f\"Content type: {request.headers['content-type']}\")\n",
        "print(f\"Encoding:     {request.encoding}\")\n",
        "print(f\"Status code:  {request.status_code} (200=OK, 400=Bad Request)\")"
      ],
      "metadata": {
        "colab": {
          "base_uri": "https://localhost:8080/"
        },
        "id": "udw4R3CclQtj",
        "outputId": "2f126039-1f70-4252-a3f2-3d162d1690b8"
      },
      "execution_count": 10,
      "outputs": [
        {
          "output_type": "stream",
          "name": "stdout",
          "text": [
            "Content type: text/plain; charset=utf-8\n",
            "Encoding:     utf-8\n",
            "Status code:  200 (200=OK, 400=Bad Request)\n"
          ]
        }
      ]
    },
    {
      "cell_type": "markdown",
      "source": [
        "Now you could use the notebook from the last lesson and do the same thing again :)"
      ],
      "metadata": {
        "id": "zC-N07vcnP4y"
      }
    },
    {
      "cell_type": "code",
      "source": [],
      "metadata": {
        "id": "9OENWBlll1Eu"
      },
      "execution_count": 2,
      "outputs": []
    }
  ]
}