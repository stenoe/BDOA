{
  "nbformat": 4,
  "nbformat_minor": 0,
  "metadata": {
    "colab": {
      "provenance": [],
      "authorship_tag": "ABX9TyP0aIE9T5686/Na89sSv5+Z",
      "include_colab_link": true
    },
    "kernelspec": {
      "name": "python3",
      "display_name": "Python 3"
    },
    "language_info": {
      "name": "python"
    }
  },
  "cells": [
    {
      "cell_type": "markdown",
      "metadata": {
        "id": "view-in-github",
        "colab_type": "text"
      },
      "source": [
        "<a href=\"https://colab.research.google.com/github/stenoe/BDOA/blob/main/Notebooks/BDOA_notebook_Lecture10_HDF5_Data_Format.ipynb\" target=\"_parent\"><img src=\"https://colab.research.google.com/assets/colab-badge.svg\" alt=\"Open In Colab\"/></a>"
      ]
    },
    {
      "cell_type": "markdown",
      "source": [
        "## HDF5 with Python\n",
        "\n",
        "In this lesson we will learn to:\n",
        "\n",
        "1. Create, Save and Read HDF5 Files\n",
        "2. Create and Read Groups and Subgroups in HDF5 Files\n",
        "3. Data Compression in HDF5 Files\n",
        "4. How to Set and Read Attributes\n",
        "5. How to Create and read HDF5 Files using Pandas\n"
      ],
      "metadata": {
        "id": "7mRAZMd12HBs"
      }
    },
    {
      "cell_type": "markdown",
      "source": [
        "### How to Create and Save HDF5 Files"
      ],
      "metadata": {
        "id": "8t3P5xzjVQ24"
      }
    },
    {
      "cell_type": "code",
      "execution_count": null,
      "metadata": {
        "id": "u4ReCZFw2Fuv"
      },
      "outputs": [],
      "source": [
        "import numpy as np\n",
        "import h5py\n",
        "import os"
      ]
    },
    {
      "cell_type": "code",
      "source": [
        "matrix1 = np.random.random(size = (1000,1000))\n",
        "matrix2 = np.random.random(size = (10000,100))"
      ],
      "metadata": {
        "id": "XseIzDHO2n0u"
      },
      "execution_count": null,
      "outputs": []
    },
    {
      "cell_type": "code",
      "source": [
        "with h5py.File('hdf5_data.h5','w') as hdf:\n",
        "    hdf.create_dataset('dataset1', data=matrix1)\n",
        "    hdf.create_dataset('dataset2', data=matrix2)    "
      ],
      "metadata": {
        "id": "cnclh1Ey2pPV"
      },
      "execution_count": null,
      "outputs": []
    },
    {
      "cell_type": "code",
      "source": [
        "# get file size in python\n",
        "file_name = \"hdf5_data.h5\"\n",
        "\n",
        "file_stats = os.stat(file_name)\n",
        "\n",
        "print(file_stats)\n",
        "#print(f'File Size in Bytes is {file_stats.st_size}')\n",
        "#print(f'File Size in MegaBytes is {file_stats.st_size / (1024 * 1024)}')\n",
        "print(f'File Size in MegaBytes is {file_stats.st_size / (1000000)}')"
      ],
      "metadata": {
        "id": "rdJxpq9_2q0d",
        "colab": {
          "base_uri": "https://localhost:8080/"
        },
        "outputId": "a1d06d60-6c5e-41fe-b023-84687251fe36"
      },
      "execution_count": null,
      "outputs": [
        {
          "output_type": "stream",
          "name": "stdout",
          "text": [
            "os.stat_result(st_mode=33188, st_ino=4849745, st_dev=47, st_nlink=1, st_uid=0, st_gid=0, st_size=16002048, st_atime=1679824371, st_mtime=1679824371, st_ctime=1679824371)\n",
            "File Size in MegaBytes is 16.002048\n"
          ]
        }
      ]
    },
    {
      "cell_type": "markdown",
      "source": [
        "### How to Read HDF5 Files"
      ],
      "metadata": {
        "id": "pCwbH22JVo9P"
      }
    },
    {
      "cell_type": "code",
      "source": [
        "with h5py.File('hdf5_data.h5', 'r') as hdf:\n",
        "    ls = list(hdf.keys())\n",
        "    print('List of datasets in this file: \\n', ls)\n",
        "    data = hdf.get('dataset1')\n",
        "    dataset1 = np.array(data)\n",
        "    print('Shape of dataset1: \\n', dataset1.shape)"
      ],
      "metadata": {
        "colab": {
          "base_uri": "https://localhost:8080/"
        },
        "id": "GBilvT6v3YHM",
        "outputId": "48397cdb-d94a-4951-c680-4a73193f58dd"
      },
      "execution_count": null,
      "outputs": [
        {
          "output_type": "stream",
          "name": "stdout",
          "text": [
            "List of datasets in this file: \n",
            " ['dataset1', 'dataset2']\n",
            "Shape of dataset1: \n",
            " (1000, 1000)\n"
          ]
        }
      ]
    },
    {
      "cell_type": "code",
      "source": [
        "dataset1"
      ],
      "metadata": {
        "colab": {
          "base_uri": "https://localhost:8080/"
        },
        "id": "GEbE_k6nVyG_",
        "outputId": "75a00286-ff79-4ffd-cf85-92274e4c716b"
      },
      "execution_count": null,
      "outputs": [
        {
          "output_type": "execute_result",
          "data": {
            "text/plain": [
              "array([[0.7419199 , 0.98390043, 0.97278465, ..., 0.42512917, 0.51185969,\n",
              "        0.05326737],\n",
              "       [0.27741415, 0.83188397, 0.87653408, ..., 0.30416553, 0.11332442,\n",
              "        0.61557232],\n",
              "       [0.62510573, 0.40796712, 0.98848012, ..., 0.3125824 , 0.77586073,\n",
              "        0.3732902 ],\n",
              "       ...,\n",
              "       [0.94960031, 0.56842416, 0.00994517, ..., 0.87602408, 0.72702729,\n",
              "        0.60330952],\n",
              "       [0.95238931, 0.21812644, 0.16540855, ..., 0.25717691, 0.06620064,\n",
              "        0.99601184],\n",
              "       [0.99778476, 0.03742449, 0.01505733, ..., 0.1536549 , 0.36698687,\n",
              "        0.82162643]])"
            ]
          },
          "metadata": {},
          "execution_count": 8
        }
      ]
    },
    {
      "cell_type": "code",
      "source": [
        "f = h5py.File('hdf5_data.h5','r')\n",
        "ls = list(f.keys())\n",
        "f.close()"
      ],
      "metadata": {
        "id": "BzQJfr1tV0Id"
      },
      "execution_count": null,
      "outputs": []
    },
    {
      "cell_type": "code",
      "source": [
        "ls"
      ],
      "metadata": {
        "colab": {
          "base_uri": "https://localhost:8080/"
        },
        "id": "RJLyn4kkV2wT",
        "outputId": "a09e7397-2127-47a9-85a4-663f2319cf03"
      },
      "execution_count": null,
      "outputs": [
        {
          "output_type": "execute_result",
          "data": {
            "text/plain": [
              "['dataset1', 'dataset2']"
            ]
          },
          "metadata": {},
          "execution_count": 10
        }
      ]
    },
    {
      "cell_type": "markdown",
      "source": [
        "### How to Create Groups and Subgroups in HDF5 Files"
      ],
      "metadata": {
        "id": "DH8XADQ_WWRT"
      }
    },
    {
      "cell_type": "code",
      "source": [
        "matrix1 = np.random.random(size = (1000,1000))\n",
        "matrix2 = np.random.random(size = (1000,1000))\n",
        "matrix3 = np.random.random(size = (1000,1000))\n",
        "matrix4 = np.random.random(size = (1000,1000))"
      ],
      "metadata": {
        "id": "fhFRLReAV327"
      },
      "execution_count": null,
      "outputs": []
    },
    {
      "cell_type": "code",
      "source": [
        "with h5py.File('hdf5_data_groups.h5', 'w') as hdf:\n",
        "    G1 = hdf.create_group('Group1')\n",
        "    G1.create_dataset('dataset1', data = matrix1)\n",
        "    G1.create_dataset('dataset4', data = matrix4)    \n",
        "\n",
        "    G21 = hdf.create_group('Group2/SubGroup1')\n",
        "    G21.create_dataset('dataset3', data = matrix3)\n",
        "\n",
        "    G22 = hdf.create_group('Group2/SubGroup2')\n",
        "    G22.create_dataset('dataset2', data = matrix2)       "
      ],
      "metadata": {
        "id": "lizsMl8lWYqT"
      },
      "execution_count": null,
      "outputs": []
    },
    {
      "cell_type": "code",
      "source": [
        "matrix4"
      ],
      "metadata": {
        "colab": {
          "base_uri": "https://localhost:8080/"
        },
        "id": "NQKCgwqJWaHf",
        "outputId": "8ea8c5e9-cb6a-47a9-fca6-c4f70107f525"
      },
      "execution_count": null,
      "outputs": [
        {
          "output_type": "execute_result",
          "data": {
            "text/plain": [
              "array([[0.69459015, 0.77989308, 0.20010063, ..., 0.07965557, 0.22458386,\n",
              "        0.41731707],\n",
              "       [0.01529281, 0.38522045, 0.47311903, ..., 0.25826161, 0.72932435,\n",
              "        0.34225346],\n",
              "       [0.40110928, 0.19024882, 0.28945091, ..., 0.98931425, 0.02295069,\n",
              "        0.65087653],\n",
              "       ...,\n",
              "       [0.97586871, 0.87121515, 0.61825057, ..., 0.44213861, 0.47217253,\n",
              "        0.49580442],\n",
              "       [0.0466027 , 0.729239  , 0.71909629, ..., 0.89688126, 0.80847145,\n",
              "        0.24989373],\n",
              "       [0.37651964, 0.973857  , 0.98352964, ..., 0.2375898 , 0.62141366,\n",
              "        0.31876375]])"
            ]
          },
          "metadata": {},
          "execution_count": 13
        }
      ]
    },
    {
      "cell_type": "markdown",
      "source": [
        "### How to Read Groups and Subgroups from HDF5 Files"
      ],
      "metadata": {
        "id": "I9Xoh8DWWl-H"
      }
    },
    {
      "cell_type": "code",
      "source": [
        "with h5py.File('hdf5_data_groups.h5', 'r') as hdf:\n",
        "    base_items = list(hdf.items())\n",
        "    print('Items in the base directory:', base_items)\n",
        "    G1 = hdf.get('Group1')\n",
        "    G1_items = list(G1.items())\n",
        "    print('Items in Group1:', G1_items)   \n",
        "    dataset4 = np.array(G1.get('dataset4'))\n",
        "    print(dataset4.shape)\n",
        "    "
      ],
      "metadata": {
        "colab": {
          "base_uri": "https://localhost:8080/"
        },
        "id": "vsU_ZSaTWh20",
        "outputId": "971e12fa-1b6e-4ca1-c164-1dd9fe487409"
      },
      "execution_count": null,
      "outputs": [
        {
          "output_type": "stream",
          "name": "stdout",
          "text": [
            "Items in the base directory: [('Group1', <HDF5 group \"/Group1\" (2 members)>), ('Group2', <HDF5 group \"/Group2\" (2 members)>)]\n",
            "Items in Group1: [('dataset1', <HDF5 dataset \"dataset1\": shape (1000, 1000), type \"<f8\">), ('dataset4', <HDF5 dataset \"dataset4\": shape (1000, 1000), type \"<f8\">)]\n",
            "(1000, 1000)\n"
          ]
        }
      ]
    },
    {
      "cell_type": "code",
      "source": [
        "with h5py.File('hdf5_data_groups.h5', 'r') as hdf:\n",
        "    base_items = list(hdf.items())\n",
        "    print('Items in the base directory:', base_items)\n",
        "    G2 = hdf.get('Group2')\n",
        "    G2_items = list(G2.items())\n",
        "    print('Items in Group2:', G2_items)   \n",
        "    G21 = G2.get('/Group2/SubGroup1')\n",
        "    G21_items = list(G21.items())\n",
        "    print('Items in Group21:', G21_items)       \n",
        "    dataset3 = np.array(G21.get('dataset3'))\n",
        "    print(dataset3.shape)"
      ],
      "metadata": {
        "colab": {
          "base_uri": "https://localhost:8080/"
        },
        "id": "-jLsNOgtW1cn",
        "outputId": "d83af09b-0298-4df1-f3ad-028b515c4acb"
      },
      "execution_count": null,
      "outputs": [
        {
          "output_type": "stream",
          "name": "stdout",
          "text": [
            "Items in the base directory: [('Group1', <HDF5 group \"/Group1\" (2 members)>), ('Group2', <HDF5 group \"/Group2\" (2 members)>)]\n",
            "Items in Group2: [('SubGroup1', <HDF5 group \"/Group2/SubGroup1\" (1 members)>), ('SubGroup2', <HDF5 group \"/Group2/SubGroup2\" (1 members)>)]\n",
            "Items in Group21: [('dataset3', <HDF5 dataset \"dataset3\": shape (1000, 1000), type \"<f8\">)]\n",
            "(1000, 1000)\n"
          ]
        }
      ]
    },
    {
      "cell_type": "markdown",
      "source": [
        "### Data Compression in HDF5 Files"
      ],
      "metadata": {
        "id": "R4MEc2dzYQ8I"
      }
    },
    {
      "cell_type": "code",
      "source": [
        "with h5py.File('hdf5_data_groups_compressed.h5', 'w') as hdf:\n",
        "    G1 = hdf.create_group('Group1')\n",
        "    G1.create_dataset('dataset1', data = matrix1, compression=\"gzip\",compression_opts=9)\n",
        "    G1.create_dataset('dataset4', data = matrix4, compression=\"gzip\",compression_opts=9)    \n",
        "\n",
        "    G21 = hdf.create_group('Group2/SubGroup1')\n",
        "    G21.create_dataset('dataset3', data = matrix3, compression=\"gzip\",compression_opts=9)\n",
        "\n",
        "    G22 = hdf.create_group('Group2/SubGroup2')\n",
        "    G22.create_dataset('dataset2', data = matrix2, compression=\"gzip\",compression_opts=9)       "
      ],
      "metadata": {
        "id": "_wcIcXOmXcG2"
      },
      "execution_count": null,
      "outputs": []
    },
    {
      "cell_type": "code",
      "source": [
        "# Look at more information on how to compress it\n",
        "# help(hdf.create_dataset)"
      ],
      "metadata": {
        "id": "qKWaaNrCYSUJ"
      },
      "execution_count": null,
      "outputs": []
    },
    {
      "cell_type": "code",
      "source": [
        "# Compare the sizes\n",
        "file_name1 = \"hdf5_data_groups.h5\"\n",
        "file_stats1 = os.stat(file_name1)\n",
        "print(f'File Size in MegaBytes is {file_stats1.st_size / (1000000)}')\n",
        "\n",
        "file_name2 = \"hdf5_data_groups_compressed.h5\"\n",
        "file_stats2 = os.stat(file_name2)\n",
        "print(f'File Size in MegaBytes is {file_stats2.st_size / (1000000)}')"
      ],
      "metadata": {
        "colab": {
          "base_uri": "https://localhost:8080/"
        },
        "id": "uUwvjBKyYSXC",
        "outputId": "ecac6a67-9033-4163-d89b-4d6a2a963264"
      },
      "execution_count": null,
      "outputs": [
        {
          "output_type": "stream",
          "name": "stdout",
          "text": [
            "File Size in MegaBytes is 32.006528\n",
            "File Size in MegaBytes is 30.265102\n"
          ]
        }
      ]
    },
    {
      "cell_type": "markdown",
      "source": [
        "### How to Set and Read Attributes"
      ],
      "metadata": {
        "id": "imO4ur6kZ44W"
      }
    },
    {
      "cell_type": "code",
      "source": [
        "matrix1 = np.random.random(size = (1000,1000))\n",
        "matrix2 = np.random.random(size = (10000,100))"
      ],
      "metadata": {
        "id": "90nZp2NlYSZ3"
      },
      "execution_count": null,
      "outputs": []
    },
    {
      "cell_type": "code",
      "source": [
        "# Create the HDF5 file\n",
        "hdf = h5py.File('test.h5', 'w')\n",
        "\n",
        "# Create the datasets\n",
        "dataset1 = hdf.create_dataset('dataset1', data = matrix1)\n",
        "dataset2 = hdf.create_dataset('dataset2', data = matrix2)\n",
        "\n",
        "# Set attributes \n",
        "dataset1.attrs['CLASS'] = 'DATA MATRIX'\n",
        "dataset1.attrs['VERSION'] = '1.1'\n",
        "\n",
        "hdf.close()"
      ],
      "metadata": {
        "id": "yGicXqyWYScv"
      },
      "execution_count": null,
      "outputs": []
    },
    {
      "cell_type": "code",
      "source": [
        "# Read the HDF5 file\n",
        "hdf = h5py.File('test.h5', 'r')\n",
        "ls = list(hdf.keys())\n",
        "print('List of datasets in this file: \\n', ls)\n",
        "data = hdf.get('dataset1')\n",
        "dataset1 = np.array(data)\n",
        "print('Shape of dataset1: \\n', dataset1.shape)\n",
        "# Read the atributes\n",
        "k = list(data.attrs.keys())\n",
        "v = list(data.attrs.values())\n",
        "print(k[0])\n",
        "print(v[0])\n",
        "print(data.attrs[k[0]])\n",
        "\n",
        "hdf.close()\n"
      ],
      "metadata": {
        "colab": {
          "base_uri": "https://localhost:8080/"
        },
        "id": "L3ozNIEpYSfI",
        "outputId": "e9d8700d-b4f9-480f-cdb1-e64482b061d1"
      },
      "execution_count": null,
      "outputs": [
        {
          "output_type": "stream",
          "name": "stdout",
          "text": [
            "List of datasets in this file: \n",
            " ['dataset1', 'dataset2']\n",
            "Shape of dataset1: \n",
            " (1000, 1000)\n",
            "CLASS\n",
            "DATA MATRIX\n",
            "DATA MATRIX\n"
          ]
        }
      ]
    },
    {
      "cell_type": "markdown",
      "source": [
        "### How to Create HDF5 Files using Pandas"
      ],
      "metadata": {
        "id": "hxSwwZtqadNG"
      }
    },
    {
      "cell_type": "code",
      "source": [
        "import pandas as pd"
      ],
      "metadata": {
        "id": "uKAgINXiYSh-"
      },
      "execution_count": null,
      "outputs": []
    },
    {
      "cell_type": "code",
      "source": [
        "# Creates (or open in append mode) and hdf5 file\n",
        "hdf = pd.HDFStore('hdf5_pandas.h5')\n",
        "\n",
        "# Size\n",
        "file_name1 = \"hdf5_pandas.h5\"\n",
        "file_stats1 = os.stat(file_name1)\n",
        "print(f'File Size in KiloBytes is {file_stats1.st_size / (1000)}')"
      ],
      "metadata": {
        "colab": {
          "base_uri": "https://localhost:8080/"
        },
        "id": "zIbgoLlWYSk2",
        "outputId": "359a4ec4-0036-4a1d-b93b-b3846b96ffb8"
      },
      "execution_count": null,
      "outputs": [
        {
          "output_type": "stream",
          "name": "stdout",
          "text": [
            "File Size in KiloBytes is 669.912\n"
          ]
        }
      ]
    },
    {
      "cell_type": "markdown",
      "source": [
        "#### Look at the sample_data folder in the left\n",
        "\n",
        "* There is a file called: `california_housing_test.csv`\n",
        "\n",
        "* Open it and visualize"
      ],
      "metadata": {
        "id": "mKHMOsrifzNd"
      }
    },
    {
      "cell_type": "code",
      "source": [
        "# read it with pandas\n",
        "df1 = pd.read_csv('sample_data/california_housing_test.csv')\n",
        "#df1"
      ],
      "metadata": {
        "id": "JOjo7YVQgEEb"
      },
      "execution_count": null,
      "outputs": []
    },
    {
      "cell_type": "code",
      "source": [
        "# it is possible to store it in hdf\n",
        "#help(hdf.put)"
      ],
      "metadata": {
        "id": "Rp39zJ5jgS6J"
      },
      "execution_count": null,
      "outputs": []
    },
    {
      "cell_type": "code",
      "source": [
        "hdf.put(\"DF1\", df1, format='table', data_columns=True)"
      ],
      "metadata": {
        "id": "bpX2n6ADg_qd"
      },
      "execution_count": null,
      "outputs": []
    },
    {
      "cell_type": "code",
      "source": [
        "print(f'File Size in Bytes is {file_stats1.st_size}')"
      ],
      "metadata": {
        "colab": {
          "base_uri": "https://localhost:8080/"
        },
        "id": "wQGSejfehTkF",
        "outputId": "bccafd57-a9b6-433a-ebad-baa6cdf496eb"
      },
      "execution_count": null,
      "outputs": [
        {
          "output_type": "stream",
          "name": "stdout",
          "text": [
            "File Size in Bytes is 96\n"
          ]
        }
      ]
    },
    {
      "cell_type": "code",
      "source": [
        "data = {\n",
        "    \"city\": [\"Tripoli\", \"Sydney\", \"Rome\"],\n",
        "    \"rank\": [\"1st\", \"2nd\", \"3rd\"],\n",
        "    \"score\": [24,15,62]\n",
        "}"
      ],
      "metadata": {
        "id": "NZIeCDR0bdUu"
      },
      "execution_count": null,
      "outputs": []
    },
    {
      "cell_type": "code",
      "source": [
        "type(data)"
      ],
      "metadata": {
        "colab": {
          "base_uri": "https://localhost:8080/"
        },
        "id": "hQhy3jv7bdOu",
        "outputId": "9c855e2f-3891-4d1a-d561-f766525ec277"
      },
      "execution_count": null,
      "outputs": [
        {
          "output_type": "execute_result",
          "data": {
            "text/plain": [
              "dict"
            ]
          },
          "metadata": {},
          "execution_count": 58
        }
      ]
    },
    {
      "cell_type": "code",
      "source": [
        "df2 = pd.DataFrame(data, columns= [\"city\", \"rank\", \"score\"])\n",
        "df2"
      ],
      "metadata": {
        "colab": {
          "base_uri": "https://localhost:8080/",
          "height": 143
        },
        "id": "NxQdZSbYbdL1",
        "outputId": "6f554075-abf9-4acb-dbfb-5f60545acb8c"
      },
      "execution_count": null,
      "outputs": [
        {
          "output_type": "execute_result",
          "data": {
            "text/plain": [
              "      city rank  score\n",
              "0  Tripoli  1st     24\n",
              "1   Sydney  2nd     15\n",
              "2     Rome  3rd     62"
            ],
            "text/html": [
              "\n",
              "  <div id=\"df-8361ae6e-45fb-4043-b38b-d391acb81715\">\n",
              "    <div class=\"colab-df-container\">\n",
              "      <div>\n",
              "<style scoped>\n",
              "    .dataframe tbody tr th:only-of-type {\n",
              "        vertical-align: middle;\n",
              "    }\n",
              "\n",
              "    .dataframe tbody tr th {\n",
              "        vertical-align: top;\n",
              "    }\n",
              "\n",
              "    .dataframe thead th {\n",
              "        text-align: right;\n",
              "    }\n",
              "</style>\n",
              "<table border=\"1\" class=\"dataframe\">\n",
              "  <thead>\n",
              "    <tr style=\"text-align: right;\">\n",
              "      <th></th>\n",
              "      <th>city</th>\n",
              "      <th>rank</th>\n",
              "      <th>score</th>\n",
              "    </tr>\n",
              "  </thead>\n",
              "  <tbody>\n",
              "    <tr>\n",
              "      <th>0</th>\n",
              "      <td>Tripoli</td>\n",
              "      <td>1st</td>\n",
              "      <td>24</td>\n",
              "    </tr>\n",
              "    <tr>\n",
              "      <th>1</th>\n",
              "      <td>Sydney</td>\n",
              "      <td>2nd</td>\n",
              "      <td>15</td>\n",
              "    </tr>\n",
              "    <tr>\n",
              "      <th>2</th>\n",
              "      <td>Rome</td>\n",
              "      <td>3rd</td>\n",
              "      <td>62</td>\n",
              "    </tr>\n",
              "  </tbody>\n",
              "</table>\n",
              "</div>\n",
              "      <button class=\"colab-df-convert\" onclick=\"convertToInteractive('df-8361ae6e-45fb-4043-b38b-d391acb81715')\"\n",
              "              title=\"Convert this dataframe to an interactive table.\"\n",
              "              style=\"display:none;\">\n",
              "        \n",
              "  <svg xmlns=\"http://www.w3.org/2000/svg\" height=\"24px\"viewBox=\"0 0 24 24\"\n",
              "       width=\"24px\">\n",
              "    <path d=\"M0 0h24v24H0V0z\" fill=\"none\"/>\n",
              "    <path d=\"M18.56 5.44l.94 2.06.94-2.06 2.06-.94-2.06-.94-.94-2.06-.94 2.06-2.06.94zm-11 1L8.5 8.5l.94-2.06 2.06-.94-2.06-.94L8.5 2.5l-.94 2.06-2.06.94zm10 10l.94 2.06.94-2.06 2.06-.94-2.06-.94-.94-2.06-.94 2.06-2.06.94z\"/><path d=\"M17.41 7.96l-1.37-1.37c-.4-.4-.92-.59-1.43-.59-.52 0-1.04.2-1.43.59L10.3 9.45l-7.72 7.72c-.78.78-.78 2.05 0 2.83L4 21.41c.39.39.9.59 1.41.59.51 0 1.02-.2 1.41-.59l7.78-7.78 2.81-2.81c.8-.78.8-2.07 0-2.86zM5.41 20L4 18.59l7.72-7.72 1.47 1.35L5.41 20z\"/>\n",
              "  </svg>\n",
              "      </button>\n",
              "      \n",
              "  <style>\n",
              "    .colab-df-container {\n",
              "      display:flex;\n",
              "      flex-wrap:wrap;\n",
              "      gap: 12px;\n",
              "    }\n",
              "\n",
              "    .colab-df-convert {\n",
              "      background-color: #E8F0FE;\n",
              "      border: none;\n",
              "      border-radius: 50%;\n",
              "      cursor: pointer;\n",
              "      display: none;\n",
              "      fill: #1967D2;\n",
              "      height: 32px;\n",
              "      padding: 0 0 0 0;\n",
              "      width: 32px;\n",
              "    }\n",
              "\n",
              "    .colab-df-convert:hover {\n",
              "      background-color: #E2EBFA;\n",
              "      box-shadow: 0px 1px 2px rgba(60, 64, 67, 0.3), 0px 1px 3px 1px rgba(60, 64, 67, 0.15);\n",
              "      fill: #174EA6;\n",
              "    }\n",
              "\n",
              "    [theme=dark] .colab-df-convert {\n",
              "      background-color: #3B4455;\n",
              "      fill: #D2E3FC;\n",
              "    }\n",
              "\n",
              "    [theme=dark] .colab-df-convert:hover {\n",
              "      background-color: #434B5C;\n",
              "      box-shadow: 0px 1px 3px 1px rgba(0, 0, 0, 0.15);\n",
              "      filter: drop-shadow(0px 1px 2px rgba(0, 0, 0, 0.3));\n",
              "      fill: #FFFFFF;\n",
              "    }\n",
              "  </style>\n",
              "\n",
              "      <script>\n",
              "        const buttonEl =\n",
              "          document.querySelector('#df-8361ae6e-45fb-4043-b38b-d391acb81715 button.colab-df-convert');\n",
              "        buttonEl.style.display =\n",
              "          google.colab.kernel.accessAllowed ? 'block' : 'none';\n",
              "\n",
              "        async function convertToInteractive(key) {\n",
              "          const element = document.querySelector('#df-8361ae6e-45fb-4043-b38b-d391acb81715');\n",
              "          const dataTable =\n",
              "            await google.colab.kernel.invokeFunction('convertToInteractive',\n",
              "                                                     [key], {});\n",
              "          if (!dataTable) return;\n",
              "\n",
              "          const docLinkHtml = 'Like what you see? Visit the ' +\n",
              "            '<a target=\"_blank\" href=https://colab.research.google.com/notebooks/data_table.ipynb>data table notebook</a>'\n",
              "            + ' to learn more about interactive tables.';\n",
              "          element.innerHTML = '';\n",
              "          dataTable['output_type'] = 'display_data';\n",
              "          await google.colab.output.renderOutput(dataTable, element);\n",
              "          const docLink = document.createElement('div');\n",
              "          docLink.innerHTML = docLinkHtml;\n",
              "          element.appendChild(docLink);\n",
              "        }\n",
              "      </script>\n",
              "    </div>\n",
              "  </div>\n",
              "  "
            ]
          },
          "metadata": {},
          "execution_count": 60
        }
      ]
    },
    {
      "cell_type": "code",
      "source": [
        "hdf.put(\"DF2key\", df2, format='table', data_columns=True)\n",
        "hdf.close()"
      ],
      "metadata": {
        "id": "O5fWoTMAidyM"
      },
      "execution_count": null,
      "outputs": []
    },
    {
      "cell_type": "code",
      "source": [
        "print(f'File Size in Bytes is {file_stats1.st_size}')"
      ],
      "metadata": {
        "colab": {
          "base_uri": "https://localhost:8080/"
        },
        "id": "MqYy_RhZisTp",
        "outputId": "d14d5626-0bce-4552-a602-acbc4e8b4a0a"
      },
      "execution_count": null,
      "outputs": [
        {
          "output_type": "stream",
          "name": "stdout",
          "text": [
            "File Size in Bytes is 96\n"
          ]
        }
      ]
    },
    {
      "cell_type": "code",
      "source": [
        "import shutil\n",
        "\n",
        "original = r'hdf5_pandas.h5'\n",
        "target = r'hdf5_pandas_copy.h5'\n",
        "\n",
        "shutil.copyfile(original, target)"
      ],
      "metadata": {
        "colab": {
          "base_uri": "https://localhost:8080/",
          "height": 35
        },
        "id": "swtJNEk_kIi0",
        "outputId": "7a786e5f-b81e-4e42-b483-4bddcda218a2"
      },
      "execution_count": null,
      "outputs": [
        {
          "output_type": "execute_result",
          "data": {
            "text/plain": [
              "'hdf5_pandas_copy.h5'"
            ],
            "application/vnd.google.colaboratory.intrinsic+json": {
              "type": "string"
            }
          },
          "metadata": {},
          "execution_count": 77
        }
      ]
    },
    {
      "cell_type": "markdown",
      "source": [
        "### Read the pandas HDF "
      ],
      "metadata": {
        "id": "IiaLYhQRjemC"
      }
    },
    {
      "cell_type": "code",
      "source": [
        "hdf_new = pd.HDFStore('hdf5_pandas_copy.h5', mode='r')"
      ],
      "metadata": {
        "id": "7Zg284t9jied"
      },
      "execution_count": null,
      "outputs": []
    },
    {
      "cell_type": "code",
      "source": [
        "hdf_new.keys()"
      ],
      "metadata": {
        "colab": {
          "base_uri": "https://localhost:8080/"
        },
        "id": "lIxA1PcVlr_e",
        "outputId": "4bdf588c-3a0f-4dd3-ed5e-a51a2212de61"
      },
      "execution_count": null,
      "outputs": [
        {
          "output_type": "execute_result",
          "data": {
            "text/plain": [
              "['/DF1', '/DF2', '/DF2key']"
            ]
          },
          "metadata": {},
          "execution_count": 79
        }
      ]
    },
    {
      "cell_type": "code",
      "source": [
        "df1_n = hdf_new.get('/DF1')"
      ],
      "metadata": {
        "id": "ILJa_Ifklu7v"
      },
      "execution_count": null,
      "outputs": []
    },
    {
      "cell_type": "code",
      "source": [
        "df1_n.head()"
      ],
      "metadata": {
        "colab": {
          "base_uri": "https://localhost:8080/",
          "height": 270
        },
        "id": "28zhSjY8l337",
        "outputId": "41f6e47a-3117-4205-bab4-179f4a4b0ac8"
      },
      "execution_count": null,
      "outputs": [
        {
          "output_type": "execute_result",
          "data": {
            "text/plain": [
              "   longitude  latitude  housing_median_age  total_rooms  total_bedrooms  \\\n",
              "0    -122.05     37.37                27.0       3885.0           661.0   \n",
              "1    -118.30     34.26                43.0       1510.0           310.0   \n",
              "2    -117.81     33.78                27.0       3589.0           507.0   \n",
              "3    -118.36     33.82                28.0         67.0            15.0   \n",
              "4    -119.67     36.33                19.0       1241.0           244.0   \n",
              "\n",
              "   population  households  median_income  median_house_value  \n",
              "0      1537.0       606.0         6.6085            344700.0  \n",
              "1       809.0       277.0         3.5990            176500.0  \n",
              "2      1484.0       495.0         5.7934            270500.0  \n",
              "3        49.0        11.0         6.1359            330000.0  \n",
              "4       850.0       237.0         2.9375             81700.0  "
            ],
            "text/html": [
              "\n",
              "  <div id=\"df-2c3a3e6c-250a-441b-a8da-9587eb3116a2\">\n",
              "    <div class=\"colab-df-container\">\n",
              "      <div>\n",
              "<style scoped>\n",
              "    .dataframe tbody tr th:only-of-type {\n",
              "        vertical-align: middle;\n",
              "    }\n",
              "\n",
              "    .dataframe tbody tr th {\n",
              "        vertical-align: top;\n",
              "    }\n",
              "\n",
              "    .dataframe thead th {\n",
              "        text-align: right;\n",
              "    }\n",
              "</style>\n",
              "<table border=\"1\" class=\"dataframe\">\n",
              "  <thead>\n",
              "    <tr style=\"text-align: right;\">\n",
              "      <th></th>\n",
              "      <th>longitude</th>\n",
              "      <th>latitude</th>\n",
              "      <th>housing_median_age</th>\n",
              "      <th>total_rooms</th>\n",
              "      <th>total_bedrooms</th>\n",
              "      <th>population</th>\n",
              "      <th>households</th>\n",
              "      <th>median_income</th>\n",
              "      <th>median_house_value</th>\n",
              "    </tr>\n",
              "  </thead>\n",
              "  <tbody>\n",
              "    <tr>\n",
              "      <th>0</th>\n",
              "      <td>-122.05</td>\n",
              "      <td>37.37</td>\n",
              "      <td>27.0</td>\n",
              "      <td>3885.0</td>\n",
              "      <td>661.0</td>\n",
              "      <td>1537.0</td>\n",
              "      <td>606.0</td>\n",
              "      <td>6.6085</td>\n",
              "      <td>344700.0</td>\n",
              "    </tr>\n",
              "    <tr>\n",
              "      <th>1</th>\n",
              "      <td>-118.30</td>\n",
              "      <td>34.26</td>\n",
              "      <td>43.0</td>\n",
              "      <td>1510.0</td>\n",
              "      <td>310.0</td>\n",
              "      <td>809.0</td>\n",
              "      <td>277.0</td>\n",
              "      <td>3.5990</td>\n",
              "      <td>176500.0</td>\n",
              "    </tr>\n",
              "    <tr>\n",
              "      <th>2</th>\n",
              "      <td>-117.81</td>\n",
              "      <td>33.78</td>\n",
              "      <td>27.0</td>\n",
              "      <td>3589.0</td>\n",
              "      <td>507.0</td>\n",
              "      <td>1484.0</td>\n",
              "      <td>495.0</td>\n",
              "      <td>5.7934</td>\n",
              "      <td>270500.0</td>\n",
              "    </tr>\n",
              "    <tr>\n",
              "      <th>3</th>\n",
              "      <td>-118.36</td>\n",
              "      <td>33.82</td>\n",
              "      <td>28.0</td>\n",
              "      <td>67.0</td>\n",
              "      <td>15.0</td>\n",
              "      <td>49.0</td>\n",
              "      <td>11.0</td>\n",
              "      <td>6.1359</td>\n",
              "      <td>330000.0</td>\n",
              "    </tr>\n",
              "    <tr>\n",
              "      <th>4</th>\n",
              "      <td>-119.67</td>\n",
              "      <td>36.33</td>\n",
              "      <td>19.0</td>\n",
              "      <td>1241.0</td>\n",
              "      <td>244.0</td>\n",
              "      <td>850.0</td>\n",
              "      <td>237.0</td>\n",
              "      <td>2.9375</td>\n",
              "      <td>81700.0</td>\n",
              "    </tr>\n",
              "  </tbody>\n",
              "</table>\n",
              "</div>\n",
              "      <button class=\"colab-df-convert\" onclick=\"convertToInteractive('df-2c3a3e6c-250a-441b-a8da-9587eb3116a2')\"\n",
              "              title=\"Convert this dataframe to an interactive table.\"\n",
              "              style=\"display:none;\">\n",
              "        \n",
              "  <svg xmlns=\"http://www.w3.org/2000/svg\" height=\"24px\"viewBox=\"0 0 24 24\"\n",
              "       width=\"24px\">\n",
              "    <path d=\"M0 0h24v24H0V0z\" fill=\"none\"/>\n",
              "    <path d=\"M18.56 5.44l.94 2.06.94-2.06 2.06-.94-2.06-.94-.94-2.06-.94 2.06-2.06.94zm-11 1L8.5 8.5l.94-2.06 2.06-.94-2.06-.94L8.5 2.5l-.94 2.06-2.06.94zm10 10l.94 2.06.94-2.06 2.06-.94-2.06-.94-.94-2.06-.94 2.06-2.06.94z\"/><path d=\"M17.41 7.96l-1.37-1.37c-.4-.4-.92-.59-1.43-.59-.52 0-1.04.2-1.43.59L10.3 9.45l-7.72 7.72c-.78.78-.78 2.05 0 2.83L4 21.41c.39.39.9.59 1.41.59.51 0 1.02-.2 1.41-.59l7.78-7.78 2.81-2.81c.8-.78.8-2.07 0-2.86zM5.41 20L4 18.59l7.72-7.72 1.47 1.35L5.41 20z\"/>\n",
              "  </svg>\n",
              "      </button>\n",
              "      \n",
              "  <style>\n",
              "    .colab-df-container {\n",
              "      display:flex;\n",
              "      flex-wrap:wrap;\n",
              "      gap: 12px;\n",
              "    }\n",
              "\n",
              "    .colab-df-convert {\n",
              "      background-color: #E8F0FE;\n",
              "      border: none;\n",
              "      border-radius: 50%;\n",
              "      cursor: pointer;\n",
              "      display: none;\n",
              "      fill: #1967D2;\n",
              "      height: 32px;\n",
              "      padding: 0 0 0 0;\n",
              "      width: 32px;\n",
              "    }\n",
              "\n",
              "    .colab-df-convert:hover {\n",
              "      background-color: #E2EBFA;\n",
              "      box-shadow: 0px 1px 2px rgba(60, 64, 67, 0.3), 0px 1px 3px 1px rgba(60, 64, 67, 0.15);\n",
              "      fill: #174EA6;\n",
              "    }\n",
              "\n",
              "    [theme=dark] .colab-df-convert {\n",
              "      background-color: #3B4455;\n",
              "      fill: #D2E3FC;\n",
              "    }\n",
              "\n",
              "    [theme=dark] .colab-df-convert:hover {\n",
              "      background-color: #434B5C;\n",
              "      box-shadow: 0px 1px 3px 1px rgba(0, 0, 0, 0.15);\n",
              "      filter: drop-shadow(0px 1px 2px rgba(0, 0, 0, 0.3));\n",
              "      fill: #FFFFFF;\n",
              "    }\n",
              "  </style>\n",
              "\n",
              "      <script>\n",
              "        const buttonEl =\n",
              "          document.querySelector('#df-2c3a3e6c-250a-441b-a8da-9587eb3116a2 button.colab-df-convert');\n",
              "        buttonEl.style.display =\n",
              "          google.colab.kernel.accessAllowed ? 'block' : 'none';\n",
              "\n",
              "        async function convertToInteractive(key) {\n",
              "          const element = document.querySelector('#df-2c3a3e6c-250a-441b-a8da-9587eb3116a2');\n",
              "          const dataTable =\n",
              "            await google.colab.kernel.invokeFunction('convertToInteractive',\n",
              "                                                     [key], {});\n",
              "          if (!dataTable) return;\n",
              "\n",
              "          const docLinkHtml = 'Like what you see? Visit the ' +\n",
              "            '<a target=\"_blank\" href=https://colab.research.google.com/notebooks/data_table.ipynb>data table notebook</a>'\n",
              "            + ' to learn more about interactive tables.';\n",
              "          element.innerHTML = '';\n",
              "          dataTable['output_type'] = 'display_data';\n",
              "          await google.colab.output.renderOutput(dataTable, element);\n",
              "          const docLink = document.createElement('div');\n",
              "          docLink.innerHTML = docLinkHtml;\n",
              "          element.appendChild(docLink);\n",
              "        }\n",
              "      </script>\n",
              "    </div>\n",
              "  </div>\n",
              "  "
            ]
          },
          "metadata": {},
          "execution_count": 83
        }
      ]
    },
    {
      "cell_type": "markdown",
      "source": [
        "## Open your HDF5 file in a web browser visualizer\n",
        "\n",
        "https://myhdf5.hdfgroup.org/\n"
      ],
      "metadata": {
        "id": "0EaDN-G5X2f_"
      }
    },
    {
      "cell_type": "markdown",
      "source": [
        "## Homework Activity\n",
        "\n",
        "1. Access NEON website and read about it\n",
        "\n",
        "https://www.neonscience.org/\n",
        "\n",
        "\n",
        "2. Watch the NEON explanation video\n",
        "\n",
        "https://www.youtube.com/watch?v=39YrzpxVRF8\n",
        "\n",
        "3. Do the Tutorial (Open HDF5 files with Python Sample Code)\n",
        "\n",
        "https://www.neonscience.org/resources/learning-hub/tutorials/hdf5-intro-python\n"
      ],
      "metadata": {
        "id": "v-vDLC9CbRqZ"
      }
    },
    {
      "cell_type": "markdown",
      "source": [
        "### Extra material (course about HDF5)\n",
        "\n",
        "\n",
        "**Learn how to use HDF5 (HDF Group)**\n",
        "\n",
        "https://www.youtube.com/playlist?list=PLPyhR4PdEeGYWHRhzmCP5stzfIha8bqVg"
      ],
      "metadata": {
        "id": "4KKtJumXqG8E"
      }
    },
    {
      "cell_type": "markdown",
      "source": [
        "**Another short course on Youtube:**\n",
        "\n",
        "https://www.youtube.com/playlist?list=PLea0WJq13cnB_ORdGzEkPlZEN20TSt6Lx"
      ],
      "metadata": {
        "id": "j9sQmerMqNr6"
      }
    },
    {
      "cell_type": "code",
      "source": [],
      "metadata": {
        "id": "KF9DkLK2qSae"
      },
      "execution_count": null,
      "outputs": []
    }
  ]
}