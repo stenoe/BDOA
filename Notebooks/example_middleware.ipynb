{
  "nbformat": 4,
  "nbformat_minor": 0,
  "metadata": {
    "colab": {
      "provenance": [],
      "authorship_tag": "ABX9TyM1Rz05nG2fABEr/to4KnrB",
      "include_colab_link": true
    },
    "kernelspec": {
      "name": "python3",
      "display_name": "Python 3"
    },
    "language_info": {
      "name": "python"
    }
  },
  "cells": [
    {
      "cell_type": "markdown",
      "metadata": {
        "id": "view-in-github",
        "colab_type": "text"
      },
      "source": [
        "<a href=\"https://colab.research.google.com/github/stenoe/BDOA/blob/main/Notebooks/example_middleware.ipynb\" target=\"_parent\"><img src=\"https://colab.research.google.com/assets/colab-badge.svg\" alt=\"Open In Colab\"/></a>"
      ]
    },
    {
      "cell_type": "markdown",
      "source": [
        "# Simple example of a middleware running in a cloud environment to extract data from some source\n",
        "\n",
        "This example uploads the data, therfore these are not really big, just about 3 mln rows.\n",
        "\n",
        "- We extract data on one city, clean the data for processing and transfer them from Farenheit to °C.\n",
        "\n",
        "- We make a visualisation and give a sample statistics (descriptive)\n",
        "\n",
        "- We control the memory usage in between."
      ],
      "metadata": {
        "id": "G09EQDeQXbqw"
      }
    },
    {
      "cell_type": "code",
      "source": [
        "import numpy as np\n",
        "import pandas as pd\n",
        "import matplotlib.pyplot as plt\n"
      ],
      "metadata": {
        "id": "5FZNYOPNLuxY"
      },
      "execution_count": 12,
      "outputs": []
    },
    {
      "cell_type": "markdown",
      "source": [
        "## Loading the data \n",
        "Here I just copied from Kaggle into a new directory called `data` and the file name was given as `city_temp.zip`\n",
        "\n",
        "- Checking the dataframes memory usage and info about the content of the data file. \n",
        "\n",
        "**NOTE**: uncomment if you want to use this way!"
      ],
      "metadata": {
        "id": "LtHQPbm9Q5qa"
      }
    },
    {
      "cell_type": "code",
      "execution_count": null,
      "metadata": {
        "colab": {
          "base_uri": "https://localhost:8080/"
        },
        "id": "ReGW7JapKXMf",
        "outputId": "0a7d9eb6-6878-4b6c-de95-2eacb581eadf"
      },
      "outputs": [
        {
          "output_type": "stream",
          "name": "stdout",
          "text": [
            "<class 'pandas.core.frame.DataFrame'>\n",
            "RangeIndex: 2906327 entries, 0 to 2906326\n",
            "Data columns (total 8 columns):\n",
            " #   Column          Dtype  \n",
            "---  ------          -----  \n",
            " 0   Region          object \n",
            " 1   Country         object \n",
            " 2   State           object \n",
            " 3   City            object \n",
            " 4   Month           int64  \n",
            " 5   Day             int64  \n",
            " 6   Year            int64  \n",
            " 7   AvgTemperature  float64\n",
            "dtypes: float64(1), int64(3), object(4)\n",
            "memory usage: 767.7 MB\n"
          ]
        }
      ],
      "source": [
        "# https://www.kaggle.com/datasets/sudalairajkumar/daily-temperature-of-major-cities\n",
        "# fn = \"data/city_temp.zip\"\n",
        "# df = pd.read_csv(fn, compression='zip', low_memory=False) \n",
        "                    \n",
        "# CHeck the memory usage                     \n",
        "# df.info(memory_usage=\"deep\")"
      ]
    },
    {
      "cell_type": "markdown",
      "source": [
        "## Alternative, use the Kaggle API\n",
        "\n",
        "**NOTE:** You need an account for that! Create a `kaggle.json` file in the account settings.\n",
        "\n",
        "Place the `kaggle.json` file created at into the notebook's directory and use `opendatasets` library."
      ],
      "metadata": {
        "id": "HBhrtybVWY_9"
      }
    },
    {
      "cell_type": "code",
      "source": [
        "# Check if opendatasets library is installed, if so - load it, if not - install it!\n",
        "try:\n",
        "  import opendatasets as od\n",
        "except ImportError as e:\n",
        "  !pip install opendatasets\n",
        "  import opendatasets as od\n"
      ],
      "metadata": {
        "id": "8uLVChesTMS7"
      },
      "execution_count": 13,
      "outputs": []
    },
    {
      "cell_type": "code",
      "source": [
        "od.download(\"https://www.kaggle.com/datasets/sudalairajkumar/daily-temperature-of-major-cities\")\n",
        "fn = \"daily-temperature-of-major-cities/city_temperature.csv\"\n",
        "df = pd.read_csv(fn, low_memory=False) \n",
        "                    \n",
        "# Check the memory usage                     \n",
        "df.info(memory_usage=\"deep\")"
      ],
      "metadata": {
        "id": "nSlF1KzTXI2D",
        "colab": {
          "base_uri": "https://localhost:8080/"
        },
        "outputId": "cb703dbf-749a-4ef9-f3e2-68cc62de4dd1"
      },
      "execution_count": 19,
      "outputs": [
        {
          "output_type": "stream",
          "name": "stdout",
          "text": [
            "Skipping, found downloaded files in \"./daily-temperature-of-major-cities\" (use force=True to force download)\n",
            "<class 'pandas.core.frame.DataFrame'>\n",
            "RangeIndex: 2906327 entries, 0 to 2906326\n",
            "Data columns (total 8 columns):\n",
            " #   Column          Dtype  \n",
            "---  ------          -----  \n",
            " 0   Region          object \n",
            " 1   Country         object \n",
            " 2   State           object \n",
            " 3   City            object \n",
            " 4   Month           int64  \n",
            " 5   Day             int64  \n",
            " 6   Year            int64  \n",
            " 7   AvgTemperature  float64\n",
            "dtypes: float64(1), int64(3), object(4)\n",
            "memory usage: 767.7 MB\n"
          ]
        }
      ]
    },
    {
      "cell_type": "code",
      "source": [
        "# Let's check out which data we have in Europe\n",
        "df[df.Region==\"Europe\"].City.unique()"
      ],
      "metadata": {
        "colab": {
          "base_uri": "https://localhost:8080/"
        },
        "id": "VP0zCzKLU2-G",
        "outputId": "77ff8b35-813a-49c2-92c4-fb088e122c4f"
      },
      "execution_count": 20,
      "outputs": [
        {
          "output_type": "execute_result",
          "data": {
            "text/plain": [
              "array(['Tirana', 'Vienna', 'Minsk', 'Brussels', 'Sofia', 'Zagreb',\n",
              "       'Nicosia', 'Prague', 'Copenhagen', 'Helsinki', 'Paris', 'Bordeaux',\n",
              "       'Bonn', 'Frankfurt', 'Hamburg', 'Munich', 'Tbilisi', 'Athens',\n",
              "       'Budapest', 'Reykjavik', 'Dublin', 'Milan', 'Rome', 'Riga',\n",
              "       'Skopje', 'Amsterdam', 'Oslo', 'Warsaw', 'Lisbon', 'Bucharest',\n",
              "       'Moscow', 'Yerevan', 'Pristina', 'Bratislava', 'Barcelona',\n",
              "       'Bilbao', 'Madrid', 'Stockholm', 'Bern', 'Geneva', 'Zurich',\n",
              "       'Kiev', 'Belfast', 'London', 'Belgrade'], dtype=object)"
            ]
          },
          "metadata": {},
          "execution_count": 20
        }
      ]
    },
    {
      "cell_type": "code",
      "source": [
        "# Check the temperatures\n",
        "df.AvgTemperature.min(), df.AvgTemperature.max()"
      ],
      "metadata": {
        "colab": {
          "base_uri": "https://localhost:8080/"
        },
        "id": "9Y8RjAUPVUoR",
        "outputId": "a6d93f39-398c-4cf3-e0fa-f9b333f37248"
      },
      "execution_count": 21,
      "outputs": [
        {
          "output_type": "execute_result",
          "data": {
            "text/plain": [
              "(-99.0, 110.0)"
            ]
          },
          "metadata": {},
          "execution_count": 21
        }
      ]
    },
    {
      "cell_type": "code",
      "source": [
        "# Cleaning the data for what we want\n",
        "\n",
        "# Let's use some city\n",
        "df = df[df.City == \"Reykjavik\"]\n",
        "\n",
        "# Use only timestamp and avg temperature\n",
        "df = df[['Year', 'Month', 'Day', 'AvgTemperature']]\n",
        "\n",
        "# filter for meaningful temperatures\n",
        "df = df[df['AvgTemperature']>-70]\n",
        "\n",
        "# create a datetime object and set as index\n",
        "df['Date'] = pd.to_datetime(df[['Year', 'Month', 'Day']]) \n",
        "df = df.set_index(df['Date'])\n",
        "\n",
        "#Select only the temperature\n",
        "df = df[['AvgTemperature']]\n",
        "\n",
        "# Transfer to °C\n",
        "df['AvgTemperature'] = (df['AvgTemperature']-32)*5/9"
      ],
      "metadata": {
        "id": "aMlogXpqLwsb"
      },
      "execution_count": 22,
      "outputs": []
    },
    {
      "cell_type": "markdown",
      "source": [
        "## Visualise the data\n",
        "\n",
        "Here we plot out the whole data (we could have done some more processing on them if needed. \n",
        "\n",
        "Also another check of the memory for the remaining data, and the dataframe's basic descriptive statistics of the data.\n",
        "\n",
        "In a \"virtual lab\" scenario, we might use the results and send them now to the user back."
      ],
      "metadata": {
        "id": "VwUwik6aRwue"
      }
    },
    {
      "cell_type": "code",
      "source": [
        "# Visualise the data\n",
        "df['AvgTemperature'].plot()\n",
        "plt.show()\n",
        "\n",
        "print(df.info(memory_usage=\"deep\"))\n",
        "df.describe()"
      ],
      "metadata": {
        "colab": {
          "base_uri": "https://localhost:8080/",
          "height": 712
        },
        "id": "fm_IitiBXLMP",
        "outputId": "3b5f4786-9b6d-4944-bfe6-0b27cca6cf95"
      },
      "execution_count": 23,
      "outputs": [
        {
          "output_type": "display_data",
          "data": {
            "text/plain": [
              "<Figure size 432x288 with 1 Axes>"
            ],
            "image/png": "[encoded data removed]"
          },
          "metadata": {
            "needs_background": "light"
          }
        },
        {
          "output_type": "stream",
          "name": "stdout",
          "text": [
            "<class 'pandas.core.frame.DataFrame'>\n",
            "DatetimeIndex: 9237 entries, 1995-01-01 to 2020-05-13\n",
            "Data columns (total 1 columns):\n",
            " #   Column          Non-Null Count  Dtype  \n",
            "---  ------          --------------  -----  \n",
            " 0   AvgTemperature  9237 non-null   float64\n",
            "dtypes: float64(1)\n",
            "memory usage: 144.3 KB\n",
            "None\n"
          ]
        },
        {
          "output_type": "execute_result",
          "data": {
            "text/plain": [
              "       AvgTemperature\n",
              "count     9237.000000\n",
              "mean         5.290312\n",
              "std          5.085667\n",
              "min        -11.888889\n",
              "25%          1.611111\n",
              "50%          5.500000\n",
              "75%          9.611111\n",
              "max         20.944444"
            ],
            "text/html": [
              "\n",
              "  <div id=\"df-0f90f926-2267-4a4e-88a8-4267b70849a4\">\n",
              "    <div class=\"colab-df-container\">\n",
              "      <div>\n",
              "<style scoped>\n",
              "    .dataframe tbody tr th:only-of-type {\n",
              "        vertical-align: middle;\n",
              "    }\n",
              "\n",
              "    .dataframe tbody tr th {\n",
              "        vertical-align: top;\n",
              "    }\n",
              "\n",
              "    .dataframe thead th {\n",
              "        text-align: right;\n",
              "    }\n",
              "</style>\n",
              "<table border=\"1\" class=\"dataframe\">\n",
              "  <thead>\n",
              "    <tr style=\"text-align: right;\">\n",
              "      <th></th>\n",
              "      <th>AvgTemperature</th>\n",
              "    </tr>\n",
              "  </thead>\n",
              "  <tbody>\n",
              "    <tr>\n",
              "      <th>count</th>\n",
              "      <td>9237.000000</td>\n",
              "    </tr>\n",
              "    <tr>\n",
              "      <th>mean</th>\n",
              "      <td>5.290312</td>\n",
              "    </tr>\n",
              "    <tr>\n",
              "      <th>std</th>\n",
              "      <td>5.085667</td>\n",
              "    </tr>\n",
              "    <tr>\n",
              "      <th>min</th>\n",
              "      <td>-11.888889</td>\n",
              "    </tr>\n",
              "    <tr>\n",
              "      <th>25%</th>\n",
              "      <td>1.611111</td>\n",
              "    </tr>\n",
              "    <tr>\n",
              "      <th>50%</th>\n",
              "      <td>5.500000</td>\n",
              "    </tr>\n",
              "    <tr>\n",
              "      <th>75%</th>\n",
              "      <td>9.611111</td>\n",
              "    </tr>\n",
              "    <tr>\n",
              "      <th>max</th>\n",
              "      <td>20.944444</td>\n",
              "    </tr>\n",
              "  </tbody>\n",
              "</table>\n",
              "</div>\n",
              "      <button class=\"colab-df-convert\" onclick=\"convertToInteractive('df-0f90f926-2267-4a4e-88a8-4267b70849a4')\"\n",
              "              title=\"Convert this dataframe to an interactive table.\"\n",
              "              style=\"display:none;\">\n",
              "        \n",
              "  <svg xmlns=\"http://www.w3.org/2000/svg\" height=\"24px\"viewBox=\"0 0 24 24\"\n",
              "       width=\"24px\">\n",
              "    <path d=\"M0 0h24v24H0V0z\" fill=\"none\"/>\n",
              "    <path d=\"M18.56 5.44l.94 2.06.94-2.06 2.06-.94-2.06-.94-.94-2.06-.94 2.06-2.06.94zm-11 1L8.5 8.5l.94-2.06 2.06-.94-2.06-.94L8.5 2.5l-.94 2.06-2.06.94zm10 10l.94 2.06.94-2.06 2.06-.94-2.06-.94-.94-2.06-.94 2.06-2.06.94z\"/><path d=\"M17.41 7.96l-1.37-1.37c-.4-.4-.92-.59-1.43-.59-.52 0-1.04.2-1.43.59L10.3 9.45l-7.72 7.72c-.78.78-.78 2.05 0 2.83L4 21.41c.39.39.9.59 1.41.59.51 0 1.02-.2 1.41-.59l7.78-7.78 2.81-2.81c.8-.78.8-2.07 0-2.86zM5.41 20L4 18.59l7.72-7.72 1.47 1.35L5.41 20z\"/>\n",
              "  </svg>\n",
              "      </button>\n",
              "      \n",
              "  <style>\n",
              "    .colab-df-container {\n",
              "      display:flex;\n",
              "      flex-wrap:wrap;\n",
              "      gap: 12px;\n",
              "    }\n",
              "\n",
              "    .colab-df-convert {\n",
              "      background-color: #E8F0FE;\n",
              "      border: none;\n",
              "      border-radius: 50%;\n",
              "      cursor: pointer;\n",
              "      display: none;\n",
              "      fill: #1967D2;\n",
              "      height: 32px;\n",
              "      padding: 0 0 0 0;\n",
              "      width: 32px;\n",
              "    }\n",
              "\n",
              "    .colab-df-convert:hover {\n",
              "      background-color: #E2EBFA;\n",
              "      box-shadow: 0px 1px 2px rgba(60, 64, 67, 0.3), 0px 1px 3px 1px rgba(60, 64, 67, 0.15);\n",
              "      fill: #174EA6;\n",
              "    }\n",
              "\n",
              "    [theme=dark] .colab-df-convert {\n",
              "      background-color: #3B4455;\n",
              "      fill: #D2E3FC;\n",
              "    }\n",
              "\n",
              "    [theme=dark] .colab-df-convert:hover {\n",
              "      background-color: #434B5C;\n",
              "      box-shadow: 0px 1px 3px 1px rgba(0, 0, 0, 0.15);\n",
              "      filter: drop-shadow(0px 1px 2px rgba(0, 0, 0, 0.3));\n",
              "      fill: #FFFFFF;\n",
              "    }\n",
              "  </style>\n",
              "\n",
              "      <script>\n",
              "        const buttonEl =\n",
              "          document.querySelector('#df-0f90f926-2267-4a4e-88a8-4267b70849a4 button.colab-df-convert');\n",
              "        buttonEl.style.display =\n",
              "          google.colab.kernel.accessAllowed ? 'block' : 'none';\n",
              "\n",
              "        async function convertToInteractive(key) {\n",
              "          const element = document.querySelector('#df-0f90f926-2267-4a4e-88a8-4267b70849a4');\n",
              "          const dataTable =\n",
              "            await google.colab.kernel.invokeFunction('convertToInteractive',\n",
              "                                                     [key], {});\n",
              "          if (!dataTable) return;\n",
              "\n",
              "          const docLinkHtml = 'Like what you see? Visit the ' +\n",
              "            '<a target=\"_blank\" href=https://colab.research.google.com/notebooks/data_table.ipynb>data table notebook</a>'\n",
              "            + ' to learn more about interactive tables.';\n",
              "          element.innerHTML = '';\n",
              "          dataTable['output_type'] = 'display_data';\n",
              "          await google.colab.output.renderOutput(dataTable, element);\n",
              "          const docLink = document.createElement('div');\n",
              "          docLink.innerHTML = docLinkHtml;\n",
              "          element.appendChild(docLink);\n",
              "        }\n",
              "      </script>\n",
              "    </div>\n",
              "  </div>\n",
              "  "
            ]
          },
          "metadata": {},
          "execution_count": 23
        }
      ]
    },
    {
      "cell_type": "code",
      "source": [],
      "metadata": {
        "id": "8iOMi90-bMgB"
      },
      "execution_count": null,
      "outputs": []
    }
  ]
}